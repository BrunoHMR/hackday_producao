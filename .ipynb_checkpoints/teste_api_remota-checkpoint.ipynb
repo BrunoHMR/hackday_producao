{
 "cells": [
  {
   "cell_type": "code",
   "execution_count": 1,
   "id": "888a32eb",
   "metadata": {
    "ExecuteTime": {
     "end_time": "2023-04-12T03:27:44.138028Z",
     "start_time": "2023-04-12T03:27:43.461117Z"
    }
   },
   "outputs": [],
   "source": [
    "# Testando a API remota\n",
    "import json\n",
    "import pandas as pd\n",
    "\n",
    "df2 = pd.read_csv(\"\\\\Users\\\\micro\\\\Desktop\\\\repos\\\\3_ciclo_intermediario\\\\4_hackday\\\\webapp\\\\test.csv\")\n",
    "\n",
    "df_test = df2[df2['id'].isin([74024])] # testando a predição"
   ]
  },
  {
   "cell_type": "code",
   "execution_count": 2,
   "id": "b0fc93e0",
   "metadata": {
    "ExecuteTime": {
     "end_time": "2023-04-12T03:27:45.254880Z",
     "start_time": "2023-04-12T03:27:45.239888Z"
    }
   },
   "outputs": [],
   "source": [
    "# converte o dataframe em json para fazer a comunicação entre os sistemas\n",
    "data = json.dumps(df_test.to_dict(orient = 'records'))"
   ]
  },
  {
   "cell_type": "code",
   "execution_count": 3,
   "id": "650d5f9c",
   "metadata": {
    "ExecuteTime": {
     "end_time": "2023-04-12T03:27:46.757147Z",
     "start_time": "2023-04-12T03:27:46.744156Z"
    }
   },
   "outputs": [
    {
     "data": {
      "text/plain": [
       "'[{\"id\": 74024, \"Classifica\\\\u00e7\\\\u00e3o do hotel\": \"4 estrelas\", \"Meses da reserva at\\\\u00e9 o check-in\": 6, \"N\\\\u00famero de pernoites reservadas\": 4, \"N\\\\u00famero de hospedes\": 4.0, \"Regime de alimenta\\\\u00e7\\\\u00e3o\": \"Caf\\\\u00e9 da manha\", \"Nacionalidade\": \"Spain\", \"Forma de Reserva\": \"Ag\\\\u00eancia\", \"J\\\\u00e1 se hospedou anterioremente\": \"N\\\\u00e3o\", \"Tipo do quarto reservado\": \"Topaz\", \"Reserva feita por ag\\\\u00eancia de turismo\": \"Sim\", \"Reserva feita por empresa\": \"N\\\\u00e3o\", \"Reserva com Estacionamento\": \"N\\\\u00e3o\", \"Reserva com Observa\\\\u00e7\\\\u00f5es\": \"1 a 3\"}]'"
      ]
     },
     "execution_count": 3,
     "metadata": {},
     "output_type": "execute_result"
    }
   ],
   "source": [
    "data"
   ]
  },
  {
   "cell_type": "code",
   "execution_count": 4,
   "id": "9fe3f90a",
   "metadata": {
    "ExecuteTime": {
     "end_time": "2023-04-12T03:27:50.237734Z",
     "start_time": "2023-04-12T03:27:49.249299Z"
    }
   },
   "outputs": [
    {
     "name": "stdout",
     "output_type": "stream",
     "text": [
      "Status Code 200\n"
     ]
    }
   ],
   "source": [
    "# Chamada em API\n",
    "\n",
    "import requests\n",
    "\n",
    "url = 'https://costa-del-data-api.onrender.com/costa_del_data/predict'\n",
    "header = {'Content-type': 'application/json'}\n",
    "data = data\n",
    "\n",
    "r = requests.post(url, data = data, headers = header) # post: precisa enviar algum dado para requerir\n",
    "print('Status Code {}'.format(r.status_code)) # para ver se a requisição é válida ou não "
   ]
  },
  {
   "cell_type": "code",
   "execution_count": 5,
   "id": "ef387338",
   "metadata": {
    "ExecuteTime": {
     "end_time": "2023-04-12T03:27:52.527422Z",
     "start_time": "2023-04-12T03:27:52.510431Z"
    }
   },
   "outputs": [
    {
     "data": {
      "text/html": [
       "<div>\n",
       "<style scoped>\n",
       "    .dataframe tbody tr th:only-of-type {\n",
       "        vertical-align: middle;\n",
       "    }\n",
       "\n",
       "    .dataframe tbody tr th {\n",
       "        vertical-align: top;\n",
       "    }\n",
       "\n",
       "    .dataframe thead th {\n",
       "        text-align: right;\n",
       "    }\n",
       "</style>\n",
       "<table border=\"1\" class=\"dataframe\">\n",
       "  <thead>\n",
       "    <tr style=\"text-align: right;\">\n",
       "      <th></th>\n",
       "      <th>id</th>\n",
       "      <th>classificacao_do_hotel</th>\n",
       "      <th>meses_da_reserva_ate_o_check_in</th>\n",
       "      <th>numero_de_pernoites_reservadas</th>\n",
       "      <th>numero_de_hospedes</th>\n",
       "      <th>regime_de_alimentacao</th>\n",
       "      <th>nacionalidade</th>\n",
       "      <th>forma_de_reserva</th>\n",
       "      <th>ja_se_hospedou_anteriormente</th>\n",
       "      <th>tipo_do_quarto_reservado</th>\n",
       "      <th>reserva_feita_por_agencia_de_turismo</th>\n",
       "      <th>reserva_feita_por_empresa</th>\n",
       "      <th>reserva_com_estacionamento</th>\n",
       "      <th>reserva_com_observacoes</th>\n",
       "      <th>predicao</th>\n",
       "    </tr>\n",
       "  </thead>\n",
       "  <tbody>\n",
       "    <tr>\n",
       "      <th>0</th>\n",
       "      <td>74024</td>\n",
       "      <td>4</td>\n",
       "      <td>6</td>\n",
       "      <td>4</td>\n",
       "      <td>4</td>\n",
       "      <td>Café da manha</td>\n",
       "      <td>Spain</td>\n",
       "      <td>Agência</td>\n",
       "      <td>0</td>\n",
       "      <td>Topaz</td>\n",
       "      <td>1</td>\n",
       "      <td>0</td>\n",
       "      <td>0</td>\n",
       "      <td>1 a 3</td>\n",
       "      <td>1</td>\n",
       "    </tr>\n",
       "  </tbody>\n",
       "</table>\n",
       "</div>"
      ],
      "text/plain": [
       "      id  classificacao_do_hotel  meses_da_reserva_ate_o_check_in  \\\n",
       "0  74024                       4                                6   \n",
       "\n",
       "   numero_de_pernoites_reservadas  numero_de_hospedes regime_de_alimentacao  \\\n",
       "0                               4                   4         Café da manha   \n",
       "\n",
       "  nacionalidade forma_de_reserva  ja_se_hospedou_anteriormente  \\\n",
       "0         Spain          Agência                             0   \n",
       "\n",
       "  tipo_do_quarto_reservado  reserva_feita_por_agencia_de_turismo  \\\n",
       "0                    Topaz                                     1   \n",
       "\n",
       "   reserva_feita_por_empresa  reserva_com_estacionamento  \\\n",
       "0                          0                           0   \n",
       "\n",
       "  reserva_com_observacoes  predicao  \n",
       "0                   1 a 3         1  "
      ]
     },
     "execution_count": 5,
     "metadata": {},
     "output_type": "execute_result"
    }
   ],
   "source": [
    "df_api_call = pd.DataFrame(r.json(), columns = r.json()[0].keys())\n",
    "df_api_call.head(50)"
   ]
  },
  {
   "cell_type": "code",
   "execution_count": 6,
   "id": "cf0a39a5",
   "metadata": {
    "ExecuteTime": {
     "end_time": "2023-04-12T03:27:55.378042Z",
     "start_time": "2023-04-12T03:27:55.369048Z"
    }
   },
   "outputs": [
    {
     "name": "stdout",
     "output_type": "stream",
     "text": [
      "A reserva de id 74024 será cancelada.\n"
     ]
    }
   ],
   "source": [
    "# Mensagem mostrada ao usuário se a reserva será cancelada ou não\n",
    "df_api_call['predicao_categorica'] = df_api_call.apply(lambda x: 'cancelada' if x['predicao'] == 1 else 'confirmada', axis = 1)\n",
    "\n",
    "for i in range(len(df_api_call)): # quantidade de ids escolhidos para fazer as predições\n",
    "    print('A reserva de id {} será {}.'.format(df_api_call.loc[i, 'id'], df_api_call.loc[i, 'predicao_categorica']))"
   ]
  },
  {
   "cell_type": "code",
   "execution_count": 7,
   "id": "339613db",
   "metadata": {
    "ExecuteTime": {
     "end_time": "2023-04-12T03:28:00.903120Z",
     "start_time": "2023-04-12T03:28:00.889129Z"
    }
   },
   "outputs": [
    {
     "data": {
      "text/plain": [
       "'[{\"id\": 74024, \"Classifica\\\\u00e7\\\\u00e3o do hotel\": \"4 estrelas\", \"Meses da reserva at\\\\u00e9 o check-in\": 6, \"N\\\\u00famero de pernoites reservadas\": 4, \"N\\\\u00famero de hospedes\": 4.0, \"Regime de alimenta\\\\u00e7\\\\u00e3o\": \"Caf\\\\u00e9 da manha\", \"Nacionalidade\": \"Spain\", \"Forma de Reserva\": \"Ag\\\\u00eancia\", \"J\\\\u00e1 se hospedou anterioremente\": \"N\\\\u00e3o\", \"Tipo do quarto reservado\": \"Topaz\", \"Reserva feita por ag\\\\u00eancia de turismo\": \"Sim\", \"Reserva feita por empresa\": \"N\\\\u00e3o\", \"Reserva com Estacionamento\": \"N\\\\u00e3o\", \"Reserva com Observa\\\\u00e7\\\\u00f5es\": \"1 a 3\"}]'"
      ]
     },
     "execution_count": 7,
     "metadata": {},
     "output_type": "execute_result"
    }
   ],
   "source": [
    "data"
   ]
  },
  {
   "cell_type": "code",
   "execution_count": null,
   "id": "6b6ca966",
   "metadata": {},
   "outputs": [],
   "source": []
  }
 ],
 "metadata": {
  "hide_input": false,
  "kernelspec": {
   "display_name": "Python 3 (ipykernel)",
   "language": "python",
   "name": "python3"
  },
  "language_info": {
   "codemirror_mode": {
    "name": "ipython",
    "version": 3
   },
   "file_extension": ".py",
   "mimetype": "text/x-python",
   "name": "python",
   "nbconvert_exporter": "python",
   "pygments_lexer": "ipython3",
   "version": "3.9.16"
  }
 },
 "nbformat": 4,
 "nbformat_minor": 5
}
