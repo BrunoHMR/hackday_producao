{
 "cells": [
  {
   "cell_type": "code",
   "execution_count": 1,
   "id": "32524042",
   "metadata": {
    "ExecuteTime": {
     "end_time": "2023-04-14T18:00:55.518163Z",
     "start_time": "2023-04-14T18:00:54.648641Z"
    }
   },
   "outputs": [],
   "source": [
    "# Testando a API remota\n",
    "import json\n",
    "import pandas as pd\n",
    "import numpy as np\n",
    "from flask import Flask, request, Response\n",
    "\n",
    "df2 = pd.read_csv(\"\\\\Users\\\\micro\\\\Desktop\\\\repos\\\\3_ciclo_intermediario\\\\4_hackday\\\\webapp\\\\test.csv\")\n",
    "\n",
    "df_test = df2[df2['id'].isin([35575])] # testando a predição"
   ]
  },
  {
   "cell_type": "code",
   "execution_count": 2,
   "id": "b0fc93e0",
   "metadata": {
    "ExecuteTime": {
     "end_time": "2023-04-14T18:00:56.944743Z",
     "start_time": "2023-04-14T18:00:56.928757Z"
    }
   },
   "outputs": [],
   "source": [
    "# converte o dataframe em json para fazer a comunicação entre os sistemas\n",
    "data = json.dumps(df_test.to_dict(orient = 'records'))"
   ]
  },
  {
   "cell_type": "code",
   "execution_count": 3,
   "id": "29de35f9",
   "metadata": {
    "ExecuteTime": {
     "end_time": "2023-04-14T18:01:03.595733Z",
     "start_time": "2023-04-14T18:01:03.581742Z"
    }
   },
   "outputs": [
    {
     "data": {
      "text/plain": [
       "str"
      ]
     },
     "execution_count": 3,
     "metadata": {},
     "output_type": "execute_result"
    }
   ],
   "source": [
    "type(data)"
   ]
  },
  {
   "cell_type": "code",
   "execution_count": 11,
   "id": "d67138b3",
   "metadata": {
    "ExecuteTime": {
     "end_time": "2023-04-14T17:32:36.132072Z",
     "start_time": "2023-04-14T17:32:36.118062Z"
    }
   },
   "outputs": [],
   "source": [
    "# data = json.loads(data)"
   ]
  },
  {
   "cell_type": "code",
   "execution_count": 12,
   "id": "7b160cdc",
   "metadata": {
    "ExecuteTime": {
     "end_time": "2023-04-14T17:32:37.645702Z",
     "start_time": "2023-04-14T17:32:37.638707Z"
    }
   },
   "outputs": [],
   "source": [
    "# data[0].keys()"
   ]
  },
  {
   "cell_type": "code",
   "execution_count": 8,
   "id": "9fe3f90a",
   "metadata": {
    "ExecuteTime": {
     "end_time": "2023-04-14T17:49:53.485480Z",
     "start_time": "2023-04-14T17:49:52.788460Z"
    }
   },
   "outputs": [
    {
     "name": "stdout",
     "output_type": "stream",
     "text": [
      "Status Code 500\n"
     ]
    }
   ],
   "source": [
    "# Chamada em API\n",
    "\n",
    "import requests\n",
    "\n",
    "url = 'https://costa-del-data-api.onrender.com/costa_del_data/predict'\n",
    "header = {'Content-type': 'application/json'}\n",
    "data = data\n",
    "\n",
    "r = requests.post(url, data = data, headers = header) # post: precisa enviar algum dado para requerir\n",
    "print('Status Code {}'.format(r.status_code)) # para ver se a requisição é válida ou não "
   ]
  },
  {
   "cell_type": "code",
   "execution_count": 13,
   "id": "7a75a470",
   "metadata": {
    "ExecuteTime": {
     "end_time": "2023-04-14T17:32:50.537047Z",
     "start_time": "2023-04-14T17:32:50.532050Z"
    }
   },
   "outputs": [],
   "source": [
    "# r"
   ]
  },
  {
   "cell_type": "code",
   "execution_count": 14,
   "id": "ed87ed75",
   "metadata": {
    "ExecuteTime": {
     "end_time": "2023-04-14T02:29:54.926569Z",
     "start_time": "2023-04-14T02:29:54.911578Z"
    }
   },
   "outputs": [],
   "source": [
    "# r.json()[0].keys()"
   ]
  },
  {
   "cell_type": "code",
   "execution_count": 15,
   "id": "cdd19c59",
   "metadata": {
    "ExecuteTime": {
     "end_time": "2023-04-14T02:29:56.623241Z",
     "start_time": "2023-04-14T02:29:56.612253Z"
    }
   },
   "outputs": [],
   "source": [
    "# r"
   ]
  },
  {
   "cell_type": "code",
   "execution_count": 6,
   "id": "ef387338",
   "metadata": {
    "ExecuteTime": {
     "end_time": "2023-04-14T17:47:13.751646Z",
     "start_time": "2023-04-14T17:47:13.401414Z"
    }
   },
   "outputs": [
    {
     "ename": "JSONDecodeError",
     "evalue": "Expecting value: line 1 column 1 (char 0)",
     "output_type": "error",
     "traceback": [
      "\u001b[1;31m---------------------------------------------------------------------------\u001b[0m",
      "\u001b[1;31mJSONDecodeError\u001b[0m                           Traceback (most recent call last)",
      "File \u001b[1;32m~\\anaconda3\\envs\\ds_em_producao\\lib\\site-packages\\requests\\models.py:971\u001b[0m, in \u001b[0;36mResponse.json\u001b[1;34m(self, **kwargs)\u001b[0m\n\u001b[0;32m    970\u001b[0m \u001b[38;5;28;01mtry\u001b[39;00m:\n\u001b[1;32m--> 971\u001b[0m     \u001b[38;5;28;01mreturn\u001b[39;00m complexjson\u001b[38;5;241m.\u001b[39mloads(\u001b[38;5;28mself\u001b[39m\u001b[38;5;241m.\u001b[39mtext, \u001b[38;5;241m*\u001b[39m\u001b[38;5;241m*\u001b[39mkwargs)\n\u001b[0;32m    972\u001b[0m \u001b[38;5;28;01mexcept\u001b[39;00m JSONDecodeError \u001b[38;5;28;01mas\u001b[39;00m e:\n\u001b[0;32m    973\u001b[0m     \u001b[38;5;66;03m# Catch JSON-related errors and raise as requests.JSONDecodeError\u001b[39;00m\n\u001b[0;32m    974\u001b[0m     \u001b[38;5;66;03m# This aliases json.JSONDecodeError and simplejson.JSONDecodeError\u001b[39;00m\n",
      "File \u001b[1;32m~\\anaconda3\\envs\\ds_em_producao\\lib\\json\\__init__.py:346\u001b[0m, in \u001b[0;36mloads\u001b[1;34m(s, cls, object_hook, parse_float, parse_int, parse_constant, object_pairs_hook, **kw)\u001b[0m\n\u001b[0;32m    343\u001b[0m \u001b[38;5;28;01mif\u001b[39;00m (\u001b[38;5;28mcls\u001b[39m \u001b[38;5;129;01mis\u001b[39;00m \u001b[38;5;28;01mNone\u001b[39;00m \u001b[38;5;129;01mand\u001b[39;00m object_hook \u001b[38;5;129;01mis\u001b[39;00m \u001b[38;5;28;01mNone\u001b[39;00m \u001b[38;5;129;01mand\u001b[39;00m\n\u001b[0;32m    344\u001b[0m         parse_int \u001b[38;5;129;01mis\u001b[39;00m \u001b[38;5;28;01mNone\u001b[39;00m \u001b[38;5;129;01mand\u001b[39;00m parse_float \u001b[38;5;129;01mis\u001b[39;00m \u001b[38;5;28;01mNone\u001b[39;00m \u001b[38;5;129;01mand\u001b[39;00m\n\u001b[0;32m    345\u001b[0m         parse_constant \u001b[38;5;129;01mis\u001b[39;00m \u001b[38;5;28;01mNone\u001b[39;00m \u001b[38;5;129;01mand\u001b[39;00m object_pairs_hook \u001b[38;5;129;01mis\u001b[39;00m \u001b[38;5;28;01mNone\u001b[39;00m \u001b[38;5;129;01mand\u001b[39;00m \u001b[38;5;129;01mnot\u001b[39;00m kw):\n\u001b[1;32m--> 346\u001b[0m     \u001b[38;5;28;01mreturn\u001b[39;00m \u001b[43m_default_decoder\u001b[49m\u001b[38;5;241;43m.\u001b[39;49m\u001b[43mdecode\u001b[49m\u001b[43m(\u001b[49m\u001b[43ms\u001b[49m\u001b[43m)\u001b[49m\n\u001b[0;32m    347\u001b[0m \u001b[38;5;28;01mif\u001b[39;00m \u001b[38;5;28mcls\u001b[39m \u001b[38;5;129;01mis\u001b[39;00m \u001b[38;5;28;01mNone\u001b[39;00m:\n",
      "File \u001b[1;32m~\\anaconda3\\envs\\ds_em_producao\\lib\\json\\decoder.py:337\u001b[0m, in \u001b[0;36mJSONDecoder.decode\u001b[1;34m(self, s, _w)\u001b[0m\n\u001b[0;32m    333\u001b[0m \u001b[38;5;124;03m\"\"\"Return the Python representation of ``s`` (a ``str`` instance\u001b[39;00m\n\u001b[0;32m    334\u001b[0m \u001b[38;5;124;03mcontaining a JSON document).\u001b[39;00m\n\u001b[0;32m    335\u001b[0m \n\u001b[0;32m    336\u001b[0m \u001b[38;5;124;03m\"\"\"\u001b[39;00m\n\u001b[1;32m--> 337\u001b[0m obj, end \u001b[38;5;241m=\u001b[39m \u001b[38;5;28;43mself\u001b[39;49m\u001b[38;5;241;43m.\u001b[39;49m\u001b[43mraw_decode\u001b[49m\u001b[43m(\u001b[49m\u001b[43ms\u001b[49m\u001b[43m,\u001b[49m\u001b[43m \u001b[49m\u001b[43midx\u001b[49m\u001b[38;5;241;43m=\u001b[39;49m\u001b[43m_w\u001b[49m\u001b[43m(\u001b[49m\u001b[43ms\u001b[49m\u001b[43m,\u001b[49m\u001b[43m \u001b[49m\u001b[38;5;241;43m0\u001b[39;49m\u001b[43m)\u001b[49m\u001b[38;5;241;43m.\u001b[39;49m\u001b[43mend\u001b[49m\u001b[43m(\u001b[49m\u001b[43m)\u001b[49m\u001b[43m)\u001b[49m\n\u001b[0;32m    338\u001b[0m end \u001b[38;5;241m=\u001b[39m _w(s, end)\u001b[38;5;241m.\u001b[39mend()\n",
      "File \u001b[1;32m~\\anaconda3\\envs\\ds_em_producao\\lib\\json\\decoder.py:355\u001b[0m, in \u001b[0;36mJSONDecoder.raw_decode\u001b[1;34m(self, s, idx)\u001b[0m\n\u001b[0;32m    354\u001b[0m \u001b[38;5;28;01mexcept\u001b[39;00m \u001b[38;5;167;01mStopIteration\u001b[39;00m \u001b[38;5;28;01mas\u001b[39;00m err:\n\u001b[1;32m--> 355\u001b[0m     \u001b[38;5;28;01mraise\u001b[39;00m JSONDecodeError(\u001b[38;5;124m\"\u001b[39m\u001b[38;5;124mExpecting value\u001b[39m\u001b[38;5;124m\"\u001b[39m, s, err\u001b[38;5;241m.\u001b[39mvalue) \u001b[38;5;28;01mfrom\u001b[39;00m \u001b[38;5;28mNone\u001b[39m\n\u001b[0;32m    356\u001b[0m \u001b[38;5;28;01mreturn\u001b[39;00m obj, end\n",
      "\u001b[1;31mJSONDecodeError\u001b[0m: Expecting value: line 1 column 1 (char 0)",
      "\nDuring handling of the above exception, another exception occurred:\n",
      "\u001b[1;31mJSONDecodeError\u001b[0m                           Traceback (most recent call last)",
      "Cell \u001b[1;32mIn[6], line 1\u001b[0m\n\u001b[1;32m----> 1\u001b[0m df_api_call \u001b[38;5;241m=\u001b[39m pd\u001b[38;5;241m.\u001b[39mDataFrame(\u001b[43mr\u001b[49m\u001b[38;5;241;43m.\u001b[39;49m\u001b[43mjson\u001b[49m\u001b[43m(\u001b[49m\u001b[43m)\u001b[49m, columns \u001b[38;5;241m=\u001b[39m r\u001b[38;5;241m.\u001b[39mjson()[\u001b[38;5;241m0\u001b[39m]\u001b[38;5;241m.\u001b[39mkeys())\n\u001b[0;32m      2\u001b[0m df_api_call\u001b[38;5;241m.\u001b[39mhead()\n",
      "File \u001b[1;32m~\\anaconda3\\envs\\ds_em_producao\\lib\\site-packages\\requests\\models.py:975\u001b[0m, in \u001b[0;36mResponse.json\u001b[1;34m(self, **kwargs)\u001b[0m\n\u001b[0;32m    971\u001b[0m     \u001b[38;5;28;01mreturn\u001b[39;00m complexjson\u001b[38;5;241m.\u001b[39mloads(\u001b[38;5;28mself\u001b[39m\u001b[38;5;241m.\u001b[39mtext, \u001b[38;5;241m*\u001b[39m\u001b[38;5;241m*\u001b[39mkwargs)\n\u001b[0;32m    972\u001b[0m \u001b[38;5;28;01mexcept\u001b[39;00m JSONDecodeError \u001b[38;5;28;01mas\u001b[39;00m e:\n\u001b[0;32m    973\u001b[0m     \u001b[38;5;66;03m# Catch JSON-related errors and raise as requests.JSONDecodeError\u001b[39;00m\n\u001b[0;32m    974\u001b[0m     \u001b[38;5;66;03m# This aliases json.JSONDecodeError and simplejson.JSONDecodeError\u001b[39;00m\n\u001b[1;32m--> 975\u001b[0m     \u001b[38;5;28;01mraise\u001b[39;00m RequestsJSONDecodeError(e\u001b[38;5;241m.\u001b[39mmsg, e\u001b[38;5;241m.\u001b[39mdoc, e\u001b[38;5;241m.\u001b[39mpos)\n",
      "\u001b[1;31mJSONDecodeError\u001b[0m: Expecting value: line 1 column 1 (char 0)"
     ]
    }
   ],
   "source": [
    "df_api_call = pd.DataFrame(r.json(), columns = r.json()[0].keys())\n",
    "df_api_call.head()"
   ]
  },
  {
   "cell_type": "code",
   "execution_count": 6,
   "id": "cf0a39a5",
   "metadata": {
    "ExecuteTime": {
     "end_time": "2023-04-14T17:35:12.070054Z",
     "start_time": "2023-04-14T17:35:12.037279Z"
    }
   },
   "outputs": [
    {
     "name": "stdout",
     "output_type": "stream",
     "text": [
      "A reserva de id 35575 será confirmada.\n"
     ]
    }
   ],
   "source": [
    "# Mensagem mostrada ao usuário se a reserva será cancelada ou não\n",
    "df_api_call['predicao_categorica'] = df_api_call.apply(lambda x: 'cancelada' if x['predicao'] == 1 else 'confirmada', axis = 1)\n",
    "\n",
    "for i in range(len(df_api_call)): # quantidade de ids escolhidos para fazer as predições\n",
    "    print('A reserva de id {} será {}.'.format(df_api_call.loc[i, 'id'], df_api_call.loc[i, 'predicao_categorica']))"
   ]
  },
  {
   "cell_type": "code",
   "execution_count": 16,
   "id": "339613db",
   "metadata": {
    "ExecuteTime": {
     "end_time": "2023-04-14T02:30:01.653746Z",
     "start_time": "2023-04-14T02:30:01.645756Z"
    }
   },
   "outputs": [],
   "source": [
    "# df_api_call"
   ]
  },
  {
   "cell_type": "code",
   "execution_count": null,
   "id": "fe910789",
   "metadata": {},
   "outputs": [],
   "source": []
  }
 ],
 "metadata": {
  "hide_input": false,
  "kernelspec": {
   "display_name": "Python 3 (ipykernel)",
   "language": "python",
   "name": "python3"
  },
  "language_info": {
   "codemirror_mode": {
    "name": "ipython",
    "version": 3
   },
   "file_extension": ".py",
   "mimetype": "text/x-python",
   "name": "python",
   "nbconvert_exporter": "python",
   "pygments_lexer": "ipython3",
   "version": "3.9.16"
  }
 },
 "nbformat": 4,
 "nbformat_minor": 5
}
