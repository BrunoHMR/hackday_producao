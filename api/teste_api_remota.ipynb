{
 "cells": [
  {
   "cell_type": "code",
   "execution_count": null,
   "id": "f38f5c36",
   "metadata": {
    "ExecuteTime": {
     "end_time": "2023-04-13T12:41:07.680004Z",
     "start_time": "2023-04-13T12:41:07.547075Z"
    }
   },
   "outputs": [],
   "source": [
    "# Testando a API remota\n",
    "import json\n",
    "import pandas as pd\n",
    "import numpy as np\n",
    "\n",
    "df2 = pd.read_csv(\"\\\\Users\\\\micro\\\\Desktop\\\\repos\\\\3_ciclo_intermediario\\\\4_hackday\\\\webapp\\\\test.csv\")\n",
    "\n",
    "df_test = df2[df2['id'].isin([37015])] # testando a predição"
   ]
  },
  {
   "cell_type": "code",
   "execution_count": 10,
   "id": "0c606f81",
   "metadata": {
    "ExecuteTime": {
     "end_time": "2023-04-13T12:41:29.986781Z",
     "start_time": "2023-04-13T12:41:29.966793Z"
    }
   },
   "outputs": [
    {
     "data": {
      "text/plain": [
       "{'id': 37015,\n",
       " 'classificacao_do_hotel': 5,\n",
       " 'meses_da_reserva_ate_o_check_in': 2,\n",
       " 'numero_de_pernoites_reservadas': 2,\n",
       " 'numero_de_hospedes': 2,\n",
       " 'regime_de_alimentacao': 'Café da manha',\n",
       " 'nacionalidade': 'brazil',\n",
       " 'forma_de_reserva': 'Agência',\n",
       " 'ja_se_hospedou_anteriormente': 0,\n",
       " 'tipo_do_quarto_reservado': 'Green Emerald',\n",
       " 'reserva_feita_por_agencia_de_turismo': 1,\n",
       " 'reserva_feita_por_empresa': 0,\n",
       " 'reserva_com_estacionamento': 0,\n",
       " 'reserva_com_observacoes': 'Nenhuma',\n",
       " 'predicao': 0}"
      ]
     },
     "execution_count": 10,
     "metadata": {},
     "output_type": "execute_result"
    }
   ],
   "source": [
    "r.json()"
   ]
  },
  {
   "cell_type": "code",
   "execution_count": 2,
   "id": "b0fc93e0",
   "metadata": {
    "ExecuteTime": {
     "end_time": "2023-04-13T12:34:45.651412Z",
     "start_time": "2023-04-13T12:34:45.642417Z"
    }
   },
   "outputs": [],
   "source": [
    "# converte o dataframe em json para fazer a comunicação entre os sistemas\n",
    "data = json.dumps(df_test.to_dict(orient = 'records'))"
   ]
  },
  {
   "cell_type": "code",
   "execution_count": 5,
   "id": "d67138b3",
   "metadata": {
    "ExecuteTime": {
     "end_time": "2023-04-13T12:36:22.197013Z",
     "start_time": "2023-04-13T12:36:22.177025Z"
    }
   },
   "outputs": [
    {
     "data": {
      "text/plain": [
       "str"
      ]
     },
     "execution_count": 5,
     "metadata": {},
     "output_type": "execute_result"
    }
   ],
   "source": [
    "type(data)"
   ]
  },
  {
   "cell_type": "code",
   "execution_count": 4,
   "id": "9fe3f90a",
   "metadata": {
    "ExecuteTime": {
     "end_time": "2023-04-13T12:35:32.894113Z",
     "start_time": "2023-04-13T12:35:03.242994Z"
    }
   },
   "outputs": [
    {
     "name": "stdout",
     "output_type": "stream",
     "text": [
      "Status Code 200\n"
     ]
    }
   ],
   "source": [
    "# Chamada em API\n",
    "\n",
    "import requests\n",
    "\n",
    "url = 'https://costa-del-data-api.onrender.com/costa_del_data/predict'\n",
    "header = {'Content-type': 'application/json'}\n",
    "data = data\n",
    "\n",
    "r = requests.post(url, data = data, headers = header) # post: precisa enviar algum dado para requerir\n",
    "print('Status Code {}'.format(r.status_code)) # para ver se a requisição é válida ou não "
   ]
  },
  {
   "cell_type": "code",
   "execution_count": 8,
   "id": "53c91237",
   "metadata": {
    "ExecuteTime": {
     "end_time": "2023-04-13T12:38:55.966282Z",
     "start_time": "2023-04-13T12:38:55.944293Z"
    }
   },
   "outputs": [
    {
     "ename": "AttributeError",
     "evalue": "'Response' object has no attribute 'get_json'",
     "output_type": "error",
     "traceback": [
      "\u001b[1;31m---------------------------------------------------------------------------\u001b[0m",
      "\u001b[1;31mAttributeError\u001b[0m                            Traceback (most recent call last)",
      "Cell \u001b[1;32mIn[8], line 1\u001b[0m\n\u001b[1;32m----> 1\u001b[0m \u001b[38;5;28mprint\u001b[39m(\u001b[43mr\u001b[49m\u001b[38;5;241;43m.\u001b[39;49m\u001b[43mget_json\u001b[49m())\n",
      "\u001b[1;31mAttributeError\u001b[0m: 'Response' object has no attribute 'get_json'"
     ]
    }
   ],
   "source": [
    "print(r.get_json())"
   ]
  },
  {
   "cell_type": "code",
   "execution_count": 12,
   "id": "ef387338",
   "metadata": {
    "ExecuteTime": {
     "end_time": "2023-04-13T03:23:46.106002Z",
     "start_time": "2023-04-13T03:23:46.091013Z"
    }
   },
   "outputs": [
    {
     "data": {
      "text/html": [
       "<div>\n",
       "<style scoped>\n",
       "    .dataframe tbody tr th:only-of-type {\n",
       "        vertical-align: middle;\n",
       "    }\n",
       "\n",
       "    .dataframe tbody tr th {\n",
       "        vertical-align: top;\n",
       "    }\n",
       "\n",
       "    .dataframe thead th {\n",
       "        text-align: right;\n",
       "    }\n",
       "</style>\n",
       "<table border=\"1\" class=\"dataframe\">\n",
       "  <thead>\n",
       "    <tr style=\"text-align: right;\">\n",
       "      <th></th>\n",
       "      <th>id</th>\n",
       "      <th>classificacao_do_hotel</th>\n",
       "      <th>meses_da_reserva_ate_o_check_in</th>\n",
       "      <th>numero_de_pernoites_reservadas</th>\n",
       "      <th>numero_de_hospedes</th>\n",
       "      <th>regime_de_alimentacao</th>\n",
       "      <th>nacionalidade</th>\n",
       "      <th>forma_de_reserva</th>\n",
       "      <th>ja_se_hospedou_anteriormente</th>\n",
       "      <th>tipo_do_quarto_reservado</th>\n",
       "      <th>reserva_feita_por_agencia_de_turismo</th>\n",
       "      <th>reserva_feita_por_empresa</th>\n",
       "      <th>reserva_com_estacionamento</th>\n",
       "      <th>reserva_com_observacoes</th>\n",
       "      <th>predicao</th>\n",
       "    </tr>\n",
       "  </thead>\n",
       "  <tbody>\n",
       "    <tr>\n",
       "      <th>0</th>\n",
       "      <td>37015</td>\n",
       "      <td>5</td>\n",
       "      <td>2</td>\n",
       "      <td>2</td>\n",
       "      <td>2</td>\n",
       "      <td>Café da manha</td>\n",
       "      <td>brazil</td>\n",
       "      <td>Agência</td>\n",
       "      <td>0</td>\n",
       "      <td>Green Emerald</td>\n",
       "      <td>1</td>\n",
       "      <td>0</td>\n",
       "      <td>0</td>\n",
       "      <td>Nenhuma</td>\n",
       "      <td>0</td>\n",
       "    </tr>\n",
       "  </tbody>\n",
       "</table>\n",
       "</div>"
      ],
      "text/plain": [
       "      id  classificacao_do_hotel  meses_da_reserva_ate_o_check_in  \\\n",
       "0  37015                       5                                2   \n",
       "\n",
       "   numero_de_pernoites_reservadas  numero_de_hospedes regime_de_alimentacao  \\\n",
       "0                               2                   2         Café da manha   \n",
       "\n",
       "  nacionalidade forma_de_reserva  ja_se_hospedou_anteriormente  \\\n",
       "0        brazil          Agência                             0   \n",
       "\n",
       "  tipo_do_quarto_reservado  reserva_feita_por_agencia_de_turismo  \\\n",
       "0            Green Emerald                                     1   \n",
       "\n",
       "   reserva_feita_por_empresa  reserva_com_estacionamento  \\\n",
       "0                          0                           0   \n",
       "\n",
       "  reserva_com_observacoes  predicao  \n",
       "0                 Nenhuma         0  "
      ]
     },
     "execution_count": 12,
     "metadata": {},
     "output_type": "execute_result"
    }
   ],
   "source": [
    "df_api_call = pd.DataFrame(r.json(), columns = r.json()[0].keys())\n",
    "df_api_call.head(50)"
   ]
  },
  {
   "cell_type": "code",
   "execution_count": 13,
   "id": "cf0a39a5",
   "metadata": {
    "ExecuteTime": {
     "end_time": "2023-04-13T03:23:50.393548Z",
     "start_time": "2023-04-13T03:23:50.371570Z"
    }
   },
   "outputs": [
    {
     "name": "stdout",
     "output_type": "stream",
     "text": [
      "A reserva de id 37015 será confirmada.\n"
     ]
    }
   ],
   "source": [
    "# Mensagem mostrada ao usuário se a reserva será cancelada ou não\n",
    "df_api_call['predicao_categorica'] = df_api_call.apply(lambda x: 'cancelada' if x['predicao'] == 1 else 'confirmada', axis = 1)\n",
    "\n",
    "for i in range(len(df_api_call)): # quantidade de ids escolhidos para fazer as predições\n",
    "    print('A reserva de id {} será {}.'.format(df_api_call.loc[i, 'id'], df_api_call.loc[i, 'predicao_categorica']))"
   ]
  },
  {
   "cell_type": "code",
   "execution_count": 14,
   "id": "339613db",
   "metadata": {
    "ExecuteTime": {
     "end_time": "2023-04-13T03:23:52.909106Z",
     "start_time": "2023-04-13T03:23:52.884970Z"
    }
   },
   "outputs": [
    {
     "data": {
      "text/html": [
       "<div>\n",
       "<style scoped>\n",
       "    .dataframe tbody tr th:only-of-type {\n",
       "        vertical-align: middle;\n",
       "    }\n",
       "\n",
       "    .dataframe tbody tr th {\n",
       "        vertical-align: top;\n",
       "    }\n",
       "\n",
       "    .dataframe thead th {\n",
       "        text-align: right;\n",
       "    }\n",
       "</style>\n",
       "<table border=\"1\" class=\"dataframe\">\n",
       "  <thead>\n",
       "    <tr style=\"text-align: right;\">\n",
       "      <th></th>\n",
       "      <th>id</th>\n",
       "      <th>classificacao_do_hotel</th>\n",
       "      <th>meses_da_reserva_ate_o_check_in</th>\n",
       "      <th>numero_de_pernoites_reservadas</th>\n",
       "      <th>numero_de_hospedes</th>\n",
       "      <th>regime_de_alimentacao</th>\n",
       "      <th>nacionalidade</th>\n",
       "      <th>forma_de_reserva</th>\n",
       "      <th>ja_se_hospedou_anteriormente</th>\n",
       "      <th>tipo_do_quarto_reservado</th>\n",
       "      <th>reserva_feita_por_agencia_de_turismo</th>\n",
       "      <th>reserva_feita_por_empresa</th>\n",
       "      <th>reserva_com_estacionamento</th>\n",
       "      <th>reserva_com_observacoes</th>\n",
       "      <th>predicao</th>\n",
       "      <th>predicao_categorica</th>\n",
       "    </tr>\n",
       "  </thead>\n",
       "  <tbody>\n",
       "    <tr>\n",
       "      <th>0</th>\n",
       "      <td>37015</td>\n",
       "      <td>5</td>\n",
       "      <td>2</td>\n",
       "      <td>2</td>\n",
       "      <td>2</td>\n",
       "      <td>Café da manha</td>\n",
       "      <td>brazil</td>\n",
       "      <td>Agência</td>\n",
       "      <td>0</td>\n",
       "      <td>Green Emerald</td>\n",
       "      <td>1</td>\n",
       "      <td>0</td>\n",
       "      <td>0</td>\n",
       "      <td>Nenhuma</td>\n",
       "      <td>0</td>\n",
       "      <td>confirmada</td>\n",
       "    </tr>\n",
       "  </tbody>\n",
       "</table>\n",
       "</div>"
      ],
      "text/plain": [
       "      id  classificacao_do_hotel  meses_da_reserva_ate_o_check_in  \\\n",
       "0  37015                       5                                2   \n",
       "\n",
       "   numero_de_pernoites_reservadas  numero_de_hospedes regime_de_alimentacao  \\\n",
       "0                               2                   2         Café da manha   \n",
       "\n",
       "  nacionalidade forma_de_reserva  ja_se_hospedou_anteriormente  \\\n",
       "0        brazil          Agência                             0   \n",
       "\n",
       "  tipo_do_quarto_reservado  reserva_feita_por_agencia_de_turismo  \\\n",
       "0            Green Emerald                                     1   \n",
       "\n",
       "   reserva_feita_por_empresa  reserva_com_estacionamento  \\\n",
       "0                          0                           0   \n",
       "\n",
       "  reserva_com_observacoes  predicao predicao_categorica  \n",
       "0                 Nenhuma         0          confirmada  "
      ]
     },
     "execution_count": 14,
     "metadata": {},
     "output_type": "execute_result"
    }
   ],
   "source": [
    "df_api_call"
   ]
  },
  {
   "cell_type": "code",
   "execution_count": null,
   "id": "fe910789",
   "metadata": {},
   "outputs": [],
   "source": []
  }
 ],
 "metadata": {
  "hide_input": false,
  "kernelspec": {
   "display_name": "Python 3 (ipykernel)",
   "language": "python",
   "name": "python3"
  },
  "language_info": {
   "codemirror_mode": {
    "name": "ipython",
    "version": 3
   },
   "file_extension": ".py",
   "mimetype": "text/x-python",
   "name": "python",
   "nbconvert_exporter": "python",
   "pygments_lexer": "ipython3",
   "version": "3.9.16"
  }
 },
 "nbformat": 4,
 "nbformat_minor": 5
}
