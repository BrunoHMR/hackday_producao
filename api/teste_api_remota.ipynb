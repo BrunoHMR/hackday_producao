{
 "cells": [
  {
   "cell_type": "code",
   "execution_count": 17,
   "id": "0c606f81",
   "metadata": {
    "ExecuteTime": {
     "end_time": "2023-04-12T13:48:32.991926Z",
     "start_time": "2023-04-12T13:48:32.879861Z"
    }
   },
   "outputs": [],
   "source": [
    "# Testando a API remota\n",
    "import json\n",
    "import pandas as pd\n",
    "\n",
    "df2 = pd.read_csv(\"\\\\Users\\\\micro\\\\Desktop\\\\repos\\\\3_ciclo_intermediario\\\\4_hackday\\\\webapp\\\\test.csv\")\n",
    "\n",
    "df_test = df2[df2['id'].isin([877])] # testando a predição"
   ]
  },
  {
   "cell_type": "code",
   "execution_count": 18,
   "id": "b0fc93e0",
   "metadata": {
    "ExecuteTime": {
     "end_time": "2023-04-12T13:48:40.076772Z",
     "start_time": "2023-04-12T13:48:40.064780Z"
    }
   },
   "outputs": [],
   "source": [
    "# converte o dataframe em json para fazer a comunicação entre os sistemas\n",
    "data = json.dumps(df_test.to_dict(orient = 'records'))"
   ]
  },
  {
   "cell_type": "code",
   "execution_count": 19,
   "id": "d67138b3",
   "metadata": {
    "ExecuteTime": {
     "end_time": "2023-04-12T13:48:41.540167Z",
     "start_time": "2023-04-12T13:48:41.529155Z"
    }
   },
   "outputs": [
    {
     "data": {
      "text/plain": [
       "'[{\"id\": 877, \"Classifica\\\\u00e7\\\\u00e3o do hotel\": \"5 estrelas\", \"Meses da reserva at\\\\u00e9 o check-in\": 1, \"N\\\\u00famero de pernoites reservadas\": 1, \"N\\\\u00famero de hospedes\": 2.0, \"Regime de alimenta\\\\u00e7\\\\u00e3o\": \"Caf\\\\u00e9 da manha\", \"Nacionalidade\": \"Spain\", \"Forma de Reserva\": \"Ag\\\\u00eancia\", \"J\\\\u00e1 se hospedou anterioremente\": \"N\\\\u00e3o\", \"Tipo do quarto reservado\": \"Amethyst\", \"Reserva feita por ag\\\\u00eancia de turismo\": \"Sim\", \"Reserva feita por empresa\": \"N\\\\u00e3o\", \"Reserva com Estacionamento\": \"N\\\\u00e3o\", \"Reserva com Observa\\\\u00e7\\\\u00f5es\": \"1 a 3\"}]'"
      ]
     },
     "execution_count": 19,
     "metadata": {},
     "output_type": "execute_result"
    }
   ],
   "source": [
    "data"
   ]
  },
  {
   "cell_type": "code",
   "execution_count": 20,
   "id": "9fe3f90a",
   "metadata": {
    "ExecuteTime": {
     "end_time": "2023-04-12T13:48:44.662199Z",
     "start_time": "2023-04-12T13:48:43.351615Z"
    }
   },
   "outputs": [
    {
     "name": "stdout",
     "output_type": "stream",
     "text": [
      "Status Code 200\n"
     ]
    }
   ],
   "source": [
    "# Chamada em API\n",
    "\n",
    "import requests\n",
    "\n",
    "url = 'https://costa-del-data-api.onrender.com/costa_del_data/predict'\n",
    "header = {'Content-type': 'application/json'}\n",
    "data = data\n",
    "\n",
    "r = requests.post(url, data = data, headers = header) # post: precisa enviar algum dado para requerir\n",
    "print('Status Code {}'.format(r.status_code)) # para ver se a requisição é válida ou não "
   ]
  },
  {
   "cell_type": "code",
   "execution_count": 21,
   "id": "ef387338",
   "metadata": {
    "ExecuteTime": {
     "end_time": "2023-04-12T13:48:46.944711Z",
     "start_time": "2023-04-12T13:48:46.883891Z"
    }
   },
   "outputs": [
    {
     "data": {
      "text/html": [
       "<div>\n",
       "<style scoped>\n",
       "    .dataframe tbody tr th:only-of-type {\n",
       "        vertical-align: middle;\n",
       "    }\n",
       "\n",
       "    .dataframe tbody tr th {\n",
       "        vertical-align: top;\n",
       "    }\n",
       "\n",
       "    .dataframe thead th {\n",
       "        text-align: right;\n",
       "    }\n",
       "</style>\n",
       "<table border=\"1\" class=\"dataframe\">\n",
       "  <thead>\n",
       "    <tr style=\"text-align: right;\">\n",
       "      <th></th>\n",
       "      <th>id</th>\n",
       "      <th>Classificação do hotel</th>\n",
       "      <th>Meses da reserva até o check-in</th>\n",
       "      <th>Número de pernoites reservadas</th>\n",
       "      <th>Número de hospedes</th>\n",
       "      <th>Regime de alimentação</th>\n",
       "      <th>Nacionalidade</th>\n",
       "      <th>Forma de Reserva</th>\n",
       "      <th>Já se hospedou anterioremente</th>\n",
       "      <th>Tipo do quarto reservado</th>\n",
       "      <th>Reserva feita por agência de turismo</th>\n",
       "      <th>Reserva feita por empresa</th>\n",
       "      <th>Reserva com Estacionamento</th>\n",
       "      <th>Reserva com Observações</th>\n",
       "      <th>predicao</th>\n",
       "    </tr>\n",
       "  </thead>\n",
       "  <tbody>\n",
       "    <tr>\n",
       "      <th>0</th>\n",
       "      <td>877</td>\n",
       "      <td>5 estrelas</td>\n",
       "      <td>1</td>\n",
       "      <td>1</td>\n",
       "      <td>2.0</td>\n",
       "      <td>Café da manha</td>\n",
       "      <td>Spain</td>\n",
       "      <td>Agência</td>\n",
       "      <td>Não</td>\n",
       "      <td>Amethyst</td>\n",
       "      <td>Sim</td>\n",
       "      <td>Não</td>\n",
       "      <td>Não</td>\n",
       "      <td>1 a 3</td>\n",
       "      <td>0</td>\n",
       "    </tr>\n",
       "  </tbody>\n",
       "</table>\n",
       "</div>"
      ],
      "text/plain": [
       "    id Classificação do hotel  Meses da reserva até o check-in  \\\n",
       "0  877             5 estrelas                                1   \n",
       "\n",
       "   Número de pernoites reservadas  Número de hospedes Regime de alimentação  \\\n",
       "0                               1                 2.0         Café da manha   \n",
       "\n",
       "  Nacionalidade Forma de Reserva Já se hospedou anterioremente  \\\n",
       "0         Spain          Agência                           Não   \n",
       "\n",
       "  Tipo do quarto reservado Reserva feita por agência de turismo  \\\n",
       "0                 Amethyst                                  Sim   \n",
       "\n",
       "  Reserva feita por empresa Reserva com Estacionamento  \\\n",
       "0                       Não                        Não   \n",
       "\n",
       "  Reserva com Observações  predicao  \n",
       "0                   1 a 3         0  "
      ]
     },
     "execution_count": 21,
     "metadata": {},
     "output_type": "execute_result"
    }
   ],
   "source": [
    "df_api_call = pd.DataFrame(r.json(), columns = r.json()[0].keys())\n",
    "df_api_call.head(50)"
   ]
  },
  {
   "cell_type": "code",
   "execution_count": 22,
   "id": "cf0a39a5",
   "metadata": {
    "ExecuteTime": {
     "end_time": "2023-04-12T13:49:16.476908Z",
     "start_time": "2023-04-12T13:49:16.468913Z"
    }
   },
   "outputs": [
    {
     "name": "stdout",
     "output_type": "stream",
     "text": [
      "A reserva de id 877 será confirmada.\n"
     ]
    }
   ],
   "source": [
    "# Mensagem mostrada ao usuário se a reserva será cancelada ou não\n",
    "df_api_call['predicao_categorica'] = df_api_call.apply(lambda x: 'cancelada' if x['predicao'] == 1 else 'confirmada', axis = 1)\n",
    "\n",
    "for i in range(len(df_api_call)): # quantidade de ids escolhidos para fazer as predições\n",
    "    print('A reserva de id {} será {}.'.format(df_api_call.loc[i, 'id'], df_api_call.loc[i, 'predicao_categorica']))"
   ]
  },
  {
   "cell_type": "code",
   "execution_count": 7,
   "id": "339613db",
   "metadata": {
    "ExecuteTime": {
     "end_time": "2023-04-12T03:28:00.903120Z",
     "start_time": "2023-04-12T03:28:00.889129Z"
    }
   },
   "outputs": [
    {
     "data": {
      "text/plain": [
       "'[{\"id\": 74024, \"Classifica\\\\u00e7\\\\u00e3o do hotel\": \"4 estrelas\", \"Meses da reserva at\\\\u00e9 o check-in\": 6, \"N\\\\u00famero de pernoites reservadas\": 4, \"N\\\\u00famero de hospedes\": 4.0, \"Regime de alimenta\\\\u00e7\\\\u00e3o\": \"Caf\\\\u00e9 da manha\", \"Nacionalidade\": \"Spain\", \"Forma de Reserva\": \"Ag\\\\u00eancia\", \"J\\\\u00e1 se hospedou anterioremente\": \"N\\\\u00e3o\", \"Tipo do quarto reservado\": \"Topaz\", \"Reserva feita por ag\\\\u00eancia de turismo\": \"Sim\", \"Reserva feita por empresa\": \"N\\\\u00e3o\", \"Reserva com Estacionamento\": \"N\\\\u00e3o\", \"Reserva com Observa\\\\u00e7\\\\u00f5es\": \"1 a 3\"}]'"
      ]
     },
     "execution_count": 7,
     "metadata": {},
     "output_type": "execute_result"
    }
   ],
   "source": [
    "# data"
   ]
  }
 ],
 "metadata": {
  "hide_input": false,
  "kernelspec": {
   "display_name": "Python 3 (ipykernel)",
   "language": "python",
   "name": "python3"
  },
  "language_info": {
   "codemirror_mode": {
    "name": "ipython",
    "version": 3
   },
   "file_extension": ".py",
   "mimetype": "text/x-python",
   "name": "python",
   "nbconvert_exporter": "python",
   "pygments_lexer": "ipython3",
   "version": "3.9.16"
  }
 },
 "nbformat": 4,
 "nbformat_minor": 5
}
